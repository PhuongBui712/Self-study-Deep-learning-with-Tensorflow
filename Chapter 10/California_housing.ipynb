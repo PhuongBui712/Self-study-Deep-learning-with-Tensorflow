{
 "cells": [
  {
   "cell_type": "code",
   "execution_count": 1,
   "metadata": {},
   "outputs": [],
   "source": [
    "import numpy as np\n",
    "import pandas as pd\n",
    "import matplotlib.pyplot as plt\n",
    "\n",
    "from sklearn.datasets import fetch_california_housing\n",
    "from sklearn.model_selection import train_test_split\n",
    "from sklearn.preprocessing import StandardScaler\n",
    "from tensorflow import keras"
   ]
  },
  {
   "cell_type": "code",
   "execution_count": 2,
   "metadata": {},
   "outputs": [],
   "source": [
    "X = fetch_california_housing().data\n",
    "y = fetch_california_housing().target\n",
    "\n",
    "X_train_full, X_test, y_train_full, y_test = train_test_split(X, y, test_size=0.3)\n",
    "X_train, X_valid, y_train, y_valid = train_test_split(X_train_full, y_train_full, test_size=0.2)"
   ]
  },
  {
   "cell_type": "code",
   "execution_count": 3,
   "metadata": {},
   "outputs": [],
   "source": [
    "scaler = StandardScaler().fit(X_train)"
   ]
  },
  {
   "cell_type": "code",
   "execution_count": 4,
   "metadata": {},
   "outputs": [
    {
     "name": "stdout",
     "output_type": "stream",
     "text": [
      "Model: \"sequential\"\n",
      "_________________________________________________________________\n",
      " Layer (type)                Output Shape              Param #   \n",
      "=================================================================\n",
      " dense (Dense)               (None, 50)                450       \n",
      "                                                                 \n",
      " dense_1 (Dense)             (None, 1)                 51        \n",
      "                                                                 \n",
      "=================================================================\n",
      "Total params: 501\n",
      "Trainable params: 501\n",
      "Non-trainable params: 0\n",
      "_________________________________________________________________\n"
     ]
    }
   ],
   "source": [
    "model = keras.models.Sequential([\n",
    "    keras.layers.Dense(50, activation='relu', input_shape=X_train.shape[1:]),\n",
    "    keras.layers.Dense(1)\n",
    "])\n",
    "\n",
    "model.summary()"
   ]
  },
  {
   "cell_type": "code",
   "execution_count": 5,
   "metadata": {},
   "outputs": [
    {
     "data": {
      "text/plain": [
       "(2890, 8)"
      ]
     },
     "execution_count": 5,
     "metadata": {},
     "output_type": "execute_result"
    }
   ],
   "source": [
    "X_valid.shape"
   ]
  },
  {
   "cell_type": "code",
   "execution_count": 6,
   "metadata": {},
   "outputs": [
    {
     "data": {
      "text/plain": [
       "(11558, 8)"
      ]
     },
     "execution_count": 6,
     "metadata": {},
     "output_type": "execute_result"
    }
   ],
   "source": [
    "scaler.transform(X_train).shape"
   ]
  },
  {
   "cell_type": "code",
   "execution_count": 7,
   "metadata": {},
   "outputs": [
    {
     "name": "stdout",
     "output_type": "stream",
     "text": [
      "Epoch 1/20\n",
      "362/362 [==============================] - 2s 3ms/step - loss: 1.9486 - val_loss: 0.5014\n",
      "Epoch 2/20\n",
      "362/362 [==============================] - 1s 3ms/step - loss: 0.5445 - val_loss: 0.4019\n",
      "Epoch 3/20\n",
      "362/362 [==============================] - 1s 2ms/step - loss: 0.4013 - val_loss: 0.3653\n",
      "Epoch 4/20\n",
      "362/362 [==============================] - 1s 2ms/step - loss: 0.3755 - val_loss: 0.3595\n",
      "Epoch 5/20\n",
      "362/362 [==============================] - 1s 3ms/step - loss: 0.3792 - val_loss: 0.3497\n",
      "Epoch 6/20\n",
      "362/362 [==============================] - 1s 3ms/step - loss: 0.3816 - val_loss: 0.3410\n",
      "Epoch 7/20\n",
      "362/362 [==============================] - 1s 3ms/step - loss: 0.3608 - val_loss: 0.3429\n",
      "Epoch 8/20\n",
      "362/362 [==============================] - 1s 3ms/step - loss: 0.3541 - val_loss: 0.3338\n",
      "Epoch 9/20\n",
      "362/362 [==============================] - 1s 3ms/step - loss: 0.3705 - val_loss: 0.3376\n",
      "Epoch 10/20\n",
      "362/362 [==============================] - 1s 2ms/step - loss: 0.3823 - val_loss: 0.3467\n",
      "Epoch 11/20\n",
      "362/362 [==============================] - 1s 3ms/step - loss: 0.3720 - val_loss: 0.3303\n",
      "Epoch 12/20\n",
      "362/362 [==============================] - 1s 2ms/step - loss: 0.3460 - val_loss: 0.3291\n",
      "Epoch 13/20\n",
      "362/362 [==============================] - 1s 3ms/step - loss: 0.3498 - val_loss: 0.3320\n",
      "Epoch 14/20\n",
      "362/362 [==============================] - 1s 3ms/step - loss: 0.3427 - val_loss: 0.3295\n",
      "Epoch 15/20\n",
      "362/362 [==============================] - 1s 2ms/step - loss: 0.3452 - val_loss: 0.3281\n",
      "Epoch 16/20\n",
      "362/362 [==============================] - 1s 2ms/step - loss: 0.3408 - val_loss: 0.3222\n",
      "Epoch 17/20\n",
      "362/362 [==============================] - 1s 2ms/step - loss: 0.3406 - val_loss: 0.3254\n",
      "Epoch 18/20\n",
      "362/362 [==============================] - 1s 2ms/step - loss: 0.3406 - val_loss: 0.3312\n",
      "Epoch 19/20\n",
      "362/362 [==============================] - 1s 2ms/step - loss: 0.3362 - val_loss: 0.3269\n",
      "Epoch 20/20\n",
      "362/362 [==============================] - 1s 2ms/step - loss: 0.3433 - val_loss: 0.3215\n"
     ]
    }
   ],
   "source": [
    "model.compile(loss='mean_squared_error',\n",
    "              optimizer='sgd')\n",
    "\n",
    "history = model.fit(scaler.transform(X_train), y_train, epochs=20,\n",
    "                    validation_data=(scaler.transform(X_valid), y_valid))"
   ]
  },
  {
   "cell_type": "code",
   "execution_count": 8,
   "metadata": {},
   "outputs": [
    {
     "data": {
      "image/png": "[encoded data removed]",
      "text/plain": [
       "<Figure size 800x500 with 1 Axes>"
      ]
     },
     "metadata": {},
     "output_type": "display_data"
    }
   ],
   "source": [
    "pd.DataFrame(history.history).plot(figsize=(8, 5))\n",
    "plt.grid(True)\n",
    "plt.gca().set_ylim(0, 1) # set the vertical range to [0-1]\n",
    "plt.show()"
   ]
  },
  {
   "cell_type": "code",
   "execution_count": 9,
   "metadata": {},
   "outputs": [
    {
     "name": "stdout",
     "output_type": "stream",
     "text": [
      "194/194 [==============================] - 0s 1ms/step - loss: 0.3439\n"
     ]
    },
    {
     "data": {
      "text/plain": [
       "0.3439292907714844"
      ]
     },
     "execution_count": 9,
     "metadata": {},
     "output_type": "execute_result"
    }
   ],
   "source": [
    "model.evaluate(scaler.transform(X_test), y_test)"
   ]
  }
 ],
 "metadata": {
  "kernelspec": {
   "display_name": "tensorflow-env",
   "language": "python",
   "name": "python3"
  },
  "language_info": {
   "codemirror_mode": {
    "name": "ipython",
    "version": 3
   },
   "file_extension": ".py",
   "mimetype": "text/x-python",
   "name": "python",
   "nbconvert_exporter": "python",
   "pygments_lexer": "ipython3",
   "version": "3.10.11"
  },
  "orig_nbformat": 4
 },
 "nbformat": 4,
 "nbformat_minor": 2
}
